version https://git-lfs.github.com/spec/v1
oid sha256:69e93e9c97e73ca17d6af8126449ccaf32b0f8ff75be3ebd6d107afcd6624b29
size 470566
